{
 "cells": [
  {
   "cell_type": "markdown",
   "metadata": {},
   "source": [
    "# Welcome to Jupyter!"
   ]
  },
  {
   "cell_type": "code",
   "execution_count": 35,
   "metadata": {},
   "outputs": [
    {
     "name": "stdout",
     "output_type": "stream",
     "text": [
      "hi this is harsha, and i am 21 years old\n",
      "hi this is harsha and i am 21 years old\n"
     ]
    }
   ],
   "source": [
    "# \"format\" the keyword used to combine two different data  types \n",
    "\n",
    "x = \"hi this is {}, and i am {} years old\"\n",
    "y = x.format(\"harsha\",21)\n",
    "print(y)\n",
    "\n",
    "age=21\n",
    "txt = \"hi this is {} and i am {} years old\"\n",
    "print(txt.format(\"harsha\",age))"
   ]
  },
  {
   "cell_type": "code",
   "execution_count": 4,
   "metadata": {},
   "outputs": [
    {
     "name": "stdout",
     "output_type": "stream",
     "text": [
      "you are super harsha\n",
      "Laudu sumanth\n"
     ]
    }
   ],
   "source": [
    "x = [\"harsha\",\"saaketh\",\"likshith\"]\n",
    "if \"harsha\" in x :\n",
    "    print(\"you are super harsha\")\n",
    "    \n",
    "if 'sumanth' not in x:\n",
    "    print('Laudu sumanth')"
   ]
  },
  {
   "cell_type": "code",
   "execution_count": 5,
   "metadata": {},
   "outputs": [
    {
     "name": "stdout",
     "output_type": "stream",
     "text": [
      "False\n"
     ]
    }
   ],
   "source": [
    "x = \"harsha how are you\"\n",
    "print(x.isupper())"
   ]
  },
  {
   "cell_type": "code",
   "execution_count": 1,
   "metadata": {},
   "outputs": [
    {
     "name": "stdout",
     "output_type": "stream",
     "text": [
      "atleast one o the statement is true\n"
     ]
    }
   ],
   "source": [
    "if 5 == 4 or 4 == 4:              #in c and c++ we use || for or statement but in python we can directly use \"or\" statement\n",
    "    print(\"atleast one o the statement is true\")\n",
    "    "
   ]
  },
  {
   "cell_type": "code",
   "execution_count": 5,
   "metadata": {},
   "outputs": [
    {
     "name": "stdout",
     "output_type": "stream",
     "text": [
      "['harsha', 'sumanth', 'dj', 'sughosh', 'likshith', 'dharshan']\n"
     ]
    }
   ],
   "source": [
    "# insert isthe keyword used to insert a word at a place where we need it\n",
    "\n",
    "names = [\"harsha\", \"sumanth\", \"sughosh\", \"likshith\", \"dharshan\"]\n",
    "names.insert(2,\"dj\")\n",
    "print(names)"
   ]
  },
  {
   "cell_type": "code",
   "execution_count": 3,
   "metadata": {},
   "outputs": [
    {
     "name": "stdout",
     "output_type": "stream",
     "text": [
      "['harsha', 'sumanth', 'sughosh', 'likshith', 'dharshan', 'shreyas']\n"
     ]
    }
   ],
   "source": [
    "# to append some word into a list we use \"append\" .....\n",
    "\n",
    "names = [\"harsha\", \"sumanth\", \"sughosh\", \"likshith\", \"dharshan\"]\n",
    "names.append(\"shreyas\")     #thus we use append(insert a the end of the list) to insert some word into a list\n",
    "print(names)"
   ]
  },
  {
   "cell_type": "code",
   "execution_count": 8,
   "metadata": {},
   "outputs": [
    {
     "name": "stdout",
     "output_type": "stream",
     "text": [
      "['harsha', 'sumanth', 'sughosh', 'likshith', 'dharshan']\n"
     ]
    }
   ],
   "source": [
    "# to remove the word from the list\n",
    "\n",
    "names = ['harsha', 'sumanth', 'dj', 'sughosh', 'likshith', 'dharshan']\n",
    "names.remove('dj')\n",
    "print(names)\n"
   ]
  },
  {
   "cell_type": "code",
   "execution_count": 11,
   "metadata": {},
   "outputs": [
    {
     "name": "stdout",
     "output_type": "stream",
     "text": [
      "sughosh\n",
      "dharshan\n",
      "likshith\n",
      "dj\n",
      "harsha\n"
     ]
    }
   ],
   "source": [
    "names = ['harsha', 'sumanth', 'dj', 'sughosh', 'likshith', 'dharshan']\n",
    "print(names[-3])      #here we used negative indexing\n",
    "print(names[-1])\n",
    "print(names[-2])\n",
    "print(names[-4])\n",
    "print(names[-6])"
   ]
  },
  {
   "cell_type": "code",
   "execution_count": 12,
   "metadata": {},
   "outputs": [
    {
     "name": "stdout",
     "output_type": "stream",
     "text": [
      "6\n"
     ]
    }
   ],
   "source": [
    "# to find the length of the string.....we use \"len\" keyword\n",
    "names = ['harsha', 'sumanth', 'dj', 'sughosh', 'likshith', 'dharshan']\n",
    "print(len(names))"
   ]
  },
  {
   "cell_type": "markdown",
   "metadata": {},
   "source": [
    "------note: we cannot convert complex into another number type"
   ]
  },
  {
   "cell_type": "code",
   "execution_count": 22,
   "metadata": {},
   "outputs": [
    {
     "name": "stdout",
     "output_type": "stream",
     "text": [
      "96\n"
     ]
    }
   ],
   "source": [
    "# random\n",
    "\n",
    "#### random is nota a in-built function in python it is a module in python\n",
    "#### therefore we have to \"import\" it\n",
    "\n",
    "import random\n",
    "print(random.randrange(1,100))\n"
   ]
  },
  {
   "cell_type": "code",
   "execution_count": 24,
   "metadata": {},
   "outputs": [
    {
     "name": "stdout",
     "output_type": "stream",
     "text": [
      "hi harsha how are you\n",
      "look harsha you have to crack wipro \n",
      "this time....prepare well, good luck!\n",
      "HI HARSHA HOW ARE YOU\n",
      "LOOK HARSHA YOU HAVE TO CRACK WIPRO \n",
      "THIS TIME....PREPARE WELL, GOOD LUCK!\n"
     ]
    }
   ],
   "source": [
    "# multi-line string\n",
    "\n",
    "#to assign multi-line string we use (\"\"\"......\"\"\") or ('''.....''')\n",
    "\n",
    "a = \"\"\"hi harsha how are you\n",
    "look harsha you have to crack wipro \n",
    "this time....prepare well, good luck!\"\"\"\n",
    "print(a)\n",
    "\n",
    "b = \"\"\"hi harsha how are you\n",
    "look harsha you have to crack wipro \n",
    "this time....prepare well, good luck!\"\"\"\n",
    "print(b.upper())\n"
   ]
  },
  {
   "cell_type": "code",
   "execution_count": 25,
   "metadata": {},
   "outputs": [
    {
     "name": "stdout",
     "output_type": "stream",
     "text": [
      "b\n",
      "a\n",
      "n\n",
      "a\n",
      "n\n",
      "a\n"
     ]
    }
   ],
   "source": [
    "for x in \"banana\":\n",
    "    print(x)\n",
    "    "
   ]
  },
  {
   "cell_type": "code",
   "execution_count": 31,
   "metadata": {},
   "outputs": [
    {
     "name": "stdout",
     "output_type": "stream",
     "text": [
      "True\n",
      "yes this is the file\n",
      "True\n",
      "this is the file\n"
     ]
    }
   ],
   "source": [
    "txt = \"harsha is practising python\"\n",
    "print(\"python\" in txt)\n",
    "if \"harsha\" in txt:\n",
    "    print(\"yes this is the file\")\n",
    "    \n",
    "print(\"hi\" not in txt)\n",
    "if \"hi\" not in txt:\n",
    "    print(\"this is the file\")"
   ]
  },
  {
   "cell_type": "code",
   "execution_count": 33,
   "metadata": {},
   "outputs": [
    {
     "name": "stdout",
     "output_type": "stream",
     "text": [
      "hi ha\n",
      " harsha\n"
     ]
    }
   ],
   "source": [
    "#slicing we can do in this way also\n",
    "\n",
    "x = \"hi harsha\"\n",
    "print(x[:5])\n",
    "print(x[2:])"
   ]
  },
  {
   "cell_type": "code",
   "execution_count": 34,
   "metadata": {},
   "outputs": [
    {
     "name": "stdout",
     "output_type": "stream",
     "text": [
      "['hell', ', harsha']\n"
     ]
    }
   ],
   "source": [
    "#split\n",
    "\n",
    "x = \"hello, harsha\"\n",
    "print(x.split(\"o\"))"
   ]
  },
  {
   "cell_type": "code",
   "execution_count": 36,
   "metadata": {},
   "outputs": [
    {
     "name": "stdout",
     "output_type": "stream",
     "text": [
      "b'hi harsha'\n"
     ]
    }
   ],
   "source": [
    "txt = \"hi harsha\"\n",
    "y = txt.encode()\n",
    "print(y)"
   ]
  },
  {
   "cell_type": "code",
   "execution_count": 37,
   "metadata": {},
   "outputs": [
    {
     "name": "stdout",
     "output_type": "stream",
     "text": [
      "False\n"
     ]
    }
   ],
   "source": [
    "# \"isinstance\" to check weather the object is of that datatype or not\n",
    "\n",
    "x=\"200\"        # here x is a string as we used \"\"\n",
    "print(isinstance(x, int))"
   ]
  },
  {
   "cell_type": "markdown",
   "metadata": {},
   "source": [
    "# Questions"
   ]
  },
  {
   "cell_type": "markdown",
   "metadata": {},
   "source": [
    "- Take name from user and print \"Welcome name\"\n",
    "  1. String concatenation\n",
    "  2. Using format\n",
    "  3. USing function"
   ]
  },
  {
   "cell_type": "code",
   "execution_count": 7,
   "metadata": {},
   "outputs": [
    {
     "name": "stdout",
     "output_type": "stream",
     "text": [
      "enter your name:saaketh\n",
      "welcome saaketh\n"
     ]
    }
   ],
   "source": [
    "# 1. String concatenation\n",
    "\n",
    "name = input(\"enter your name:\")\n",
    "print(\"welcome \" + name)\n"
   ]
  },
  {
   "cell_type": "code",
   "execution_count": 8,
   "metadata": {},
   "outputs": [
    {
     "name": "stdout",
     "output_type": "stream",
     "text": [
      "enter your name:saaketh\n",
      "welcome saaketh\n"
     ]
    }
   ],
   "source": [
    "# 2. using format\n",
    "\n",
    "name = input(\"enter your name:\")\n",
    "print(\"welcome {}\".format(name))\n",
    "\n"
   ]
  },
  {
   "cell_type": "code",
   "execution_count": 9,
   "metadata": {},
   "outputs": [
    {
     "name": "stdout",
     "output_type": "stream",
     "text": [
      "enter your name:saaketh\n",
      "welcome saaketh\n"
     ]
    }
   ],
   "source": [
    "# 3. using function\n",
    "\n",
    "def greeting(name) :\n",
    "    print(\"welcome {}\".format(name))\n",
    "    \n",
    "name = input(\"enter your name:\")\n",
    "greeting(name)\n",
    "\n",
    "    "
   ]
  },
  {
   "cell_type": "code",
   "execution_count": null,
   "metadata": {},
   "outputs": [],
   "source": []
  }
 ],
 "metadata": {
  "kernelspec": {
   "display_name": "Python 3",
   "language": "python",
   "name": "python3"
  },
  "language_info": {
   "codemirror_mode": {
    "name": "ipython",
    "version": 3
   },
   "file_extension": ".py",
   "mimetype": "text/x-python",
   "name": "python",
   "nbconvert_exporter": "python",
   "pygments_lexer": "ipython3",
   "version": "3.9.2"
  }
 },
 "nbformat": 4,
 "nbformat_minor": 2
}
